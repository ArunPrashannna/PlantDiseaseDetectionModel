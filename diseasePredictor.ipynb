{
  "nbformat": 4,
  "nbformat_minor": 0,
  "metadata": {
    "colab": {
      "name": "diseasePredictor.ipynb",
      "provenance": [],
      "collapsed_sections": []
    },
    "kernelspec": {
      "name": "python3",
      "display_name": "Python 3"
    }
  },
  "cells": [
    {
      "cell_type": "code",
      "metadata": {
        "id": "vtHe8IkiopCm",
        "colab": {
          "base_uri": "https://localhost:8080/"
        },
        "outputId": "49144031-5068-4f65-9774-2537ca51d32a"
      },
      "source": [
        "from google.colab import drive\r\n",
        "drive.mount('/content/gdrive')"
      ],
      "execution_count": null,
      "outputs": [
        {
          "output_type": "stream",
          "text": [
            "Mounted at /content/gdrive\n"
          ],
          "name": "stdout"
        }
      ]
    },
    {
      "cell_type": "code",
      "metadata": {
        "id": "67hFv3ZXocln"
      },
      "source": [
        ""
      ],
      "execution_count": null,
      "outputs": []
    },
    {
      "cell_type": "code",
      "metadata": {
        "id": "RDO0qv3Jfr2T"
      },
      "source": [
        "#imports\n",
        "import numpy as np\n",
        "import cv2\n",
        "from keras.models import model_from_json\n",
        "from keras.models import Sequential\n",
        "from keras.layers.convolutional import Conv2D\n",
        "from keras.layers.convolutional import MaxPooling2D\n",
        "from keras.layers.normalization import BatchNormalization\n",
        "from keras.layers.core import Activation,Dense,Dropout,Flatten\n",
        "from os import listdir\n",
        "from sklearn.preprocessing import LabelBinarizer\n",
        "from keras import backend as Back\n",
        "from keras.preprocessing.image import ImageDataGenerator\n",
        "from keras.optimizers import Adam\n",
        "from keras.preprocessing import image\n",
        "from keras.preprocessing.image import img_to_array\n",
        "from sklearn.preprocessing import MultiLabelBinarizer\n",
        "from sklearn.model_selection import train_test_split\n",
        "import matplotlib.pyplot as plt\n",
        " \n",
        "#constants\n",
        "EPOCHS=25\n",
        "INIT_LR=1e-3\n",
        "BS=32\n",
        "default_image_size=tuple((256,256))\n",
        "image_size=0\n",
        "directory_root='/content/gdrive/My Drive/PlantVillage'\n",
        "width=256\n",
        "height=256\n",
        "depth=3\n",
        "image_list,label_list=[],[]"
      ],
      "execution_count": null,
      "outputs": []
    },
    {
      "cell_type": "code",
      "metadata": {
        "id": "FuVZtU6nljhd"
      },
      "source": [
        "#convert image to array\r\n",
        "def convertToArray(image_directory):\r\n",
        "  try:\r\n",
        "    img=cv2.imread(image_directory)\r\n",
        "    if img is not None:\r\n",
        "      img=cv2.resize(img,default_image_size)\r\n",
        "      return img_to_array(img)\r\n",
        "    else:\r\n",
        "      return np.array([])\r\n",
        "  except Exception as e:\r\n",
        "    print(f\"Exception:{e}\")\r\n",
        "    return None"
      ],
      "execution_count": null,
      "outputs": []
    },
    {
      "cell_type": "code",
      "metadata": {
        "colab": {
          "base_uri": "https://localhost:8080/"
        },
        "id": "99Ce-2NOsZw-",
        "outputId": "8bc6acd3-96fb-4ad7-ff4f-3515d2d98e37"
      },
      "source": [
        "#loading images\n",
        "try:\n",
        "  #print(listdir('/content/gdrive/My Drive'))\n",
        " # print(\"[INFO] Loading Images\")\n",
        "  root=listdir(directory_root)\n",
        "  \n",
        "  #opens the plants in PlantVillage folder\n",
        "  for plant in root:\n",
        "    plant_disease_dir=listdir(f\"{directory_root}/{plant}\")\n",
        " \n",
        "    #opens the diseases in the current plant folder\n",
        "    for plant_disease in plant_disease_dir:\n",
        "      #print(f\"Processing {plant_disease}\")\n",
        "      plant_disease_image_dir=listdir(f\"{directory_root}/{plant}/{plant_disease}/\")\n",
        " \n",
        "      #opens the images in the current plant/disease folder\n",
        "      for disease_img in plant_disease_image_dir[:250]:\n",
        "        img_dir=f\"{directory_root}/{plant}/{plant_disease}/{disease_img}\"\n",
        " \n",
        "        #if it is an image convert to array and upate the image_list and label_list\n",
        "        if img_dir.endswith(\".jpg\") or img_dir.endswith(\".JPG\"):\n",
        "          image_list.append(convertToArray(img_dir))\n",
        "          label_list.append(plant_disease)\n",
        "#  print(\"[INFO] Completed\")\n",
        " \n",
        "except Exception as e:\n",
        "  print(f\"[ERROR]: {e}\")"
      ],
      "execution_count": null,
      "outputs": [
        {
          "output_type": "stream",
          "text": [
            "[INFO] Loading Images\n",
            "Processing Tomato_Spider_mites_Two_spotted_spider_mite\n",
            "Processing Tomato_Leaf_Mold\n",
            "Processing Tomato__Tomato_mosaic_virus\n",
            "Processing Tomato_Septoria_leaf_spot\n",
            "Processing Tomato__Tomato_YellowLeaf__Curl_Virus\n",
            "Processing Tomato_Late_blight\n",
            "Processing Tomato__Target_Spot\n",
            "Processing Tomato_healthy\n",
            "Processing Tomato_Early_blight\n",
            "Processing Tomato_Bacterial_spot\n",
            "Processing Potato___healthy\n",
            "Processing Potato___Early_blight\n",
            "Processing Potato___Late_blight\n",
            "Processing Pepper__bell___healthy\n",
            "Processing Pepper__bell___Bacterial_spot\n",
            "[INFO] Completed\n"
          ],
          "name": "stdout"
        }
      ]
    },
    {
      "cell_type": "code",
      "metadata": {
        "colab": {
          "base_uri": "https://localhost:8080/"
        },
        "id": "V4p9Rw__A5E7",
        "outputId": "03c35167-ae3f-4a14-b86a-b5ad260b63b8"
      },
      "source": [
        "#print(len(image_list))\n",
        "label_bin=LabelBinarizer()"
      ],
      "execution_count": null,
      "outputs": [
        {
          "output_type": "stream",
          "text": [
            "3732\n"
          ],
          "name": "stdout"
        }
      ]
    },
    {
      "cell_type": "code",
      "metadata": {
        "id": "233zrV8rCGgq"
      },
      "source": [
        "labels=label_bin.fit_transform(label_list)\r\n",
        "pickle.dump(label_bin,open('labeltransform.pkl','wb'))"
      ],
      "execution_count": null,
      "outputs": []
    },
    {
      "cell_type": "code",
      "metadata": {
        "colab": {
          "base_uri": "https://localhost:8080/"
        },
        "id": "T-us5WqDCmwS",
        "outputId": "1a07e229-fcc2-4b7d-ce88-652de0c9ad12"
      },
      "source": [
        "classesN=len(label_bin.classes_)\n",
        "#print(classesN)"
      ],
      "execution_count": null,
      "outputs": [
        {
          "output_type": "stream",
          "text": [
            "15\n"
          ],
          "name": "stdout"
        }
      ]
    },
    {
      "cell_type": "code",
      "metadata": {
        "id": "pR9P2GMUNvnh"
      },
      "source": [
        "np_image=np.array(image_list,dtype=np.float16)/225.0\n",
        "#print(np_image[0][0])"
      ],
      "execution_count": null,
      "outputs": []
    },
    {
      "cell_type": "code",
      "metadata": {
        "id": "wR99cqe-ogij"
      },
      "source": [
        "#Splitting train and test data\n",
        "x_train,x_test,y_train,y_test=train_test_split(np_image,labels,test_size=0.2,random_state=42)\n",
        "#print(\"Completed test train split\")"
      ],
      "execution_count": null,
      "outputs": []
    },
    {
      "cell_type": "code",
      "metadata": {
        "id": "sPQSfAsOpSBT"
      },
      "source": [
        "genImg=ImageDataGenerator(rotation_range=25,width_shift_range=0.1,height_shift_range=0.1,shear_range=0.2,zoom_range=0.2,horizontal_flip=True,fill_mode=\"nearest\")"
      ],
      "execution_count": null,
      "outputs": []
    },
    {
      "cell_type": "code",
      "metadata": {
        "id": "m6R_OeyYv_PL"
      },
      "source": [
        "model=Sequential()\n",
        "shape=(height,width,depth)\n",
        "dim=-1\n",
        " \n",
        "if Back.image_data_format()==\"channels_first\":\n",
        "  shape=(depth,height,width)\n",
        "  dim=1\n",
        " \n",
        "model.add(Conv2D(32,(3,3),padding=\"same\",input_shape=shape))\n",
        "model.add(Activation(\"relu\"))\n",
        "model.add(BatchNormalization(axis=dim))\n",
        " \n",
        "#downsampling  input\n",
        "model.add(MaxPooling2D(pool_size=(3,3)))\n",
        "model.add(Dropout(0.25))\n",
        " \n",
        "model.add(Conv2D(64,(3,3),padding=\"same\"))\n",
        "model.add(Activation(\"relu\"))\n",
        "model.add(BatchNormalization(axis=dim))\n",
        "model.add(Conv2D(32,(3,3),padding=\"same\"))\n",
        "model.add(Activation(\"relu\"))\n",
        "model.add(BatchNormalization(axis=dim))\n",
        "model.add(MaxPooling2D(pool_size=(2,2)))\n",
        "model.add(Dropout(0.25))\n",
        " \n",
        "model.add(Conv2D(128,(3,3),padding=\"same\"))\n",
        "model.add(Activation(\"relu\"))\n",
        "model.add(BatchNormalization(axis=dim))\n",
        "model.add(Conv2D(128,(3,3),padding=\"same\"))\n",
        "model.add(Activation(\"relu\"))\n",
        "model.add(BatchNormalization(axis=dim))\n",
        "model.add(MaxPooling2D(pool_size=(2,2)))\n",
        "model.add(Dropout(0.25))\n",
        "model.add(Flatten())\n",
        "model.add(Dense(1024))\n",
        "model.add(Activation(\"relu\"))\n",
        "model.add(BatchNormalization())\n",
        "#model.add(Dropout(0.5))\n",
        "model.add(Dense(classesN))\n",
        "model.add(Activation(\"softmax\"))"
      ],
      "execution_count": null,
      "outputs": []
    },
    {
      "cell_type": "code",
      "metadata": {
        "colab": {
          "base_uri": "https://localhost:8080/"
        },
        "id": "3hfhAheC0Beh",
        "outputId": "86c16e2f-2db4-4164-bde5-f77e6109e4af"
      },
      "source": [
        "optimize=Adam(learning_rate=INIT_LR,decay=INIT_LR/EPOCHS)\n",
        " \n",
        "#training thw model\n",
        "model.compile(loss=\"binary_crossentropy\",optimizer=optimize,metrics=['accuracy'])\n",
        "#print(\"Training the model\")"
      ],
      "execution_count": null,
      "outputs": [
        {
          "output_type": "stream",
          "text": [
            "Training the model\n"
          ],
          "name": "stdout"
        }
      ]
    },
    {
      "cell_type": "code",
      "metadata": {
        "colab": {
          "base_uri": "https://localhost:8080/"
        },
        "id": "byKXQyW60f8B",
        "outputId": "52072e24-5e96-49e2-b135-5323f2a01a2c"
      },
      "source": [
        "hist=model.fit_generator(genImg.flow(x_train,y_train,batch_size=BS)\n",
        ",validation_data=(x_test,y_test),\n",
        "steps_per_epoch=len(x_train)//BS,epochs=EPOCHS,verbose=1)"
      ],
      "execution_count": null,
      "outputs": [
        {
          "output_type": "stream",
          "text": [
            "/usr/local/lib/python3.7/dist-packages/tensorflow/python/keras/engine/training.py:1844: UserWarning: `Model.fit_generator` is deprecated and will be removed in a future version. Please use `Model.fit`, which supports generators.\n",
            "  warnings.warn('`Model.fit_generator` is deprecated and '\n"
          ],
          "name": "stderr"
        },
        {
          "output_type": "stream",
          "text": [
            "Epoch 1/25\n",
            "93/93 [==============================] - 587s 6s/step - loss: 0.6221 - accuracy: 0.3442 - val_loss: 2.9779 - val_accuracy: 0.0428\n",
            "Epoch 2/25\n",
            "93/93 [==============================] - 590s 6s/step - loss: 0.1395 - accuracy: 0.6304 - val_loss: 1.1370 - val_accuracy: 0.0656\n",
            "Epoch 3/25\n",
            "93/93 [==============================] - 586s 6s/step - loss: 0.1630 - accuracy: 0.5204 - val_loss: 0.4529 - val_accuracy: 0.1017\n",
            "Epoch 4/25\n",
            "93/93 [==============================] - 590s 6s/step - loss: 0.1025 - accuracy: 0.7325 - val_loss: 0.5520 - val_accuracy: 0.0977\n",
            "Epoch 5/25\n",
            "93/93 [==============================] - 587s 6s/step - loss: 0.0947 - accuracy: 0.7448 - val_loss: 0.4459 - val_accuracy: 0.2142\n",
            "Epoch 6/25\n",
            "93/93 [==============================] - 590s 6s/step - loss: 0.0794 - accuracy: 0.8032 - val_loss: 0.2525 - val_accuracy: 0.4230\n",
            "Epoch 7/25\n",
            "93/93 [==============================] - 590s 6s/step - loss: 0.0704 - accuracy: 0.8253 - val_loss: 0.1743 - val_accuracy: 0.6037\n",
            "Epoch 8/25\n",
            "93/93 [==============================] - 595s 6s/step - loss: 0.0689 - accuracy: 0.8346 - val_loss: 0.1258 - val_accuracy: 0.6975\n",
            "Epoch 9/25\n",
            "93/93 [==============================] - 591s 6s/step - loss: 0.0659 - accuracy: 0.8429 - val_loss: 0.4492 - val_accuracy: 0.4043\n",
            "Epoch 10/25\n",
            "93/93 [==============================] - 590s 6s/step - loss: 0.0665 - accuracy: 0.8454 - val_loss: 0.1770 - val_accuracy: 0.6064\n",
            "Epoch 11/25\n",
            "93/93 [==============================] - 598s 6s/step - loss: 0.0567 - accuracy: 0.8600 - val_loss: 0.1109 - val_accuracy: 0.7657\n",
            "Epoch 12/25\n",
            "93/93 [==============================] - 593s 6s/step - loss: 0.0480 - accuracy: 0.8926 - val_loss: 0.1212 - val_accuracy: 0.7216\n",
            "Epoch 13/25\n",
            "93/93 [==============================] - 587s 6s/step - loss: 0.0481 - accuracy: 0.8860 - val_loss: 0.2940 - val_accuracy: 0.5167\n",
            "Epoch 14/25\n",
            "93/93 [==============================] - 587s 6s/step - loss: 0.0456 - accuracy: 0.8985 - val_loss: 0.1247 - val_accuracy: 0.7671\n",
            "Epoch 15/25\n",
            "93/93 [==============================] - 585s 6s/step - loss: 0.0402 - accuracy: 0.9074 - val_loss: 0.2344 - val_accuracy: 0.6426\n",
            "Epoch 16/25\n",
            "93/93 [==============================] - 584s 6s/step - loss: 0.0356 - accuracy: 0.9217 - val_loss: 0.4362 - val_accuracy: 0.4203\n",
            "Epoch 17/25\n",
            "93/93 [==============================] - 587s 6s/step - loss: 0.0374 - accuracy: 0.9234 - val_loss: 0.1616 - val_accuracy: 0.7095\n",
            "Epoch 18/25\n",
            "93/93 [==============================] - 586s 6s/step - loss: 0.0306 - accuracy: 0.9348 - val_loss: 0.2114 - val_accuracy: 0.5971\n",
            "Epoch 19/25\n",
            "93/93 [==============================] - 594s 6s/step - loss: 0.0343 - accuracy: 0.9259 - val_loss: 0.2644 - val_accuracy: 0.5007\n",
            "Epoch 20/25\n",
            "93/93 [==============================] - 596s 6s/step - loss: 0.0312 - accuracy: 0.9379 - val_loss: 0.2593 - val_accuracy: 0.5770\n",
            "Epoch 21/25\n",
            "93/93 [==============================] - 597s 6s/step - loss: 0.0278 - accuracy: 0.9459 - val_loss: 0.2662 - val_accuracy: 0.5569\n",
            "Epoch 22/25\n",
            "93/93 [==============================] - 594s 6s/step - loss: 0.0318 - accuracy: 0.9335 - val_loss: 0.1591 - val_accuracy: 0.6827\n",
            "Epoch 23/25\n",
            "93/93 [==============================] - 591s 6s/step - loss: 0.0250 - accuracy: 0.9530 - val_loss: 0.5486 - val_accuracy: 0.4685\n",
            "Epoch 24/25\n",
            "93/93 [==============================] - 590s 6s/step - loss: 0.0336 - accuracy: 0.9338 - val_loss: 0.1400 - val_accuracy: 0.7523\n",
            "Epoch 25/25\n",
            "93/93 [==============================] - 590s 6s/step - loss: 0.0296 - accuracy: 0.9381 - val_loss: 0.0618 - val_accuracy: 0.8701\n"
          ],
          "name": "stdout"
        }
      ]
    },
    {
      "cell_type": "code",
      "metadata": {
        "colab": {
          "base_uri": "https://localhost:8080/",
          "height": 324
        },
        "id": "tiVyyQLS13PB",
        "outputId": "c53b6431-83a8-4f75-b582-5d8ecb86fe49"
      },
      "source": [
        "'''acc=hist.history['accuracy']\n",
        "val_acc=hist.history['val_accuracy']\n",
        "los=hist.history['loss']\n",
        "val_los=hist.history['val_loss']\n",
        " \n",
        "epochs=range(1,len(acc)+1)\n",
        " \n",
        "plt.plot(epochs,acc,'b',label=\"Training Accuracy\")\n",
        "plt.plot(epochs,val_acc,'r',label=\"Validation Accuracy\")\n",
        "plt.title('Training and Testing accuracies')\n",
        "plt.legend()\n",
        " \n",
        "plt.figure()\n",
        " \n",
        "plt.plot(epochs,los,'b',label=\"Training Loss\")\n",
        "plt.plot(epochs,val_los,'r',label=\"Validation Loss\")\n",
        "plt.title('Training and Testing Losses')\n",
        "plt.legend()\n",
        " \n",
        "plt.show()'''"
      ],
      "execution_count": null,
      "outputs": [
        {
          "output_type": "execute_result",
          "data": {
            "application/vnd.google.colaboratory.intrinsic+json": {
              "type": "string"
            },
            "text/plain": [
              "'acc=hist.history[\\'accuracy\\']\\nval_acc=hist.history[\\'val_accuracy\\']\\nlos=hist.history[\\'loss\\']\\nval_los=hist.history[\\'val_loss\\']\\n \\nepochs=range(1,len(acc)+1)\\n \\nplt.plot(epochs,acc,\\'b\\',label=\"Training Accuracy\")\\nplt.plot(epochs,val_acc,\\'r\\',label=\"Validation Accuracy\")\\nplt.title(\\'Training and Testing accuracies\\')\\nplt.legend()\\n \\nplt.figure()\\n \\nplt.plot(epochs,los,\\'b\\',label=\"Training Loss\")\\nplt.plot(epochs,val_los,\\'r\\',label=\"Validation Loss\")\\nplt.title(\\'Training and Testing Losses\\')\\nplt.legend()\\n \\nplt.show()'"
            ]
          },
          "metadata": {
            "tags": []
          },
          "execution_count": 23
        }
      ]
    },
    {
      "cell_type": "code",
      "metadata": {
        "colab": {
          "base_uri": "https://localhost:8080/"
        },
        "id": "YvWgft0zE_Of",
        "outputId": "71d53dab-3cc6-4a1a-f567-3f258d3a145a"
      },
      "source": [
        "score=model.evaluate(x_test,y_test)\r\n",
        "print(f\"Score: {score[1]*100.0}\")"
      ],
      "execution_count": null,
      "outputs": [
        {
          "output_type": "stream",
          "text": [
            "24/24 [==============================] - 30s 1s/step - loss: 0.0618 - accuracy: 0.8701\n",
            "Score: 87.01472282409668\n"
          ],
          "name": "stdout"
        }
      ]
    },
    {
      "cell_type": "code",
      "metadata": {
        "id": "9JEfBjpQ-aY_",
        "colab": {
          "base_uri": "https://localhost:8080/",
          "height": 34
        },
        "outputId": "3c01c65e-0dfd-4a20-e7b8-f510534fceeb"
      },
      "source": [
        "model_json=model.to_json()\n",
        "with open('cnn_model.json','w') as jsonf:\n",
        " jsonf.write(model_json)\n",
        " \n",
        "model.save('model.h5')\n",
        "\n",
        "from google.colab import files\n",
        "files.download('cnn_model.json')\n",
        "files.download('model.h5')"
      ],
      "execution_count": null,
      "outputs": [
        {
          "output_type": "display_data",
          "data": {
            "application/javascript": [
              "\n",
              "    async function download(id, filename, size) {\n",
              "      if (!google.colab.kernel.accessAllowed) {\n",
              "        return;\n",
              "      }\n",
              "      const div = document.createElement('div');\n",
              "      const label = document.createElement('label');\n",
              "      label.textContent = `Downloading \"${filename}\": `;\n",
              "      div.appendChild(label);\n",
              "      const progress = document.createElement('progress');\n",
              "      progress.max = size;\n",
              "      div.appendChild(progress);\n",
              "      document.body.appendChild(div);\n",
              "\n",
              "      const buffers = [];\n",
              "      let downloaded = 0;\n",
              "\n",
              "      const channel = await google.colab.kernel.comms.open(id);\n",
              "      // Send a message to notify the kernel that we're ready.\n",
              "      channel.send({})\n",
              "\n",
              "      for await (const message of channel.messages) {\n",
              "        // Send a message to notify the kernel that we're ready.\n",
              "        channel.send({})\n",
              "        if (message.buffers) {\n",
              "          for (const buffer of message.buffers) {\n",
              "            buffers.push(buffer);\n",
              "            downloaded += buffer.byteLength;\n",
              "            progress.value = downloaded;\n",
              "          }\n",
              "        }\n",
              "      }\n",
              "      const blob = new Blob(buffers, {type: 'application/binary'});\n",
              "      const a = document.createElement('a');\n",
              "      a.href = window.URL.createObjectURL(blob);\n",
              "      a.download = filename;\n",
              "      div.appendChild(a);\n",
              "      a.click();\n",
              "      div.remove();\n",
              "    }\n",
              "  "
            ],
            "text/plain": [
              "<IPython.core.display.Javascript object>"
            ]
          },
          "metadata": {
            "tags": []
          }
        },
        {
          "output_type": "display_data",
          "data": {
            "application/javascript": [
              "download(\"download_aa8ff109-cec5-4031-8a47-3de38495b302\", \"cnn_model.json\", 9403)"
            ],
            "text/plain": [
              "<IPython.core.display.Javascript object>"
            ]
          },
          "metadata": {
            "tags": []
          }
        },
        {
          "output_type": "display_data",
          "data": {
            "application/javascript": [
              "\n",
              "    async function download(id, filename, size) {\n",
              "      if (!google.colab.kernel.accessAllowed) {\n",
              "        return;\n",
              "      }\n",
              "      const div = document.createElement('div');\n",
              "      const label = document.createElement('label');\n",
              "      label.textContent = `Downloading \"${filename}\": `;\n",
              "      div.appendChild(label);\n",
              "      const progress = document.createElement('progress');\n",
              "      progress.max = size;\n",
              "      div.appendChild(progress);\n",
              "      document.body.appendChild(div);\n",
              "\n",
              "      const buffers = [];\n",
              "      let downloaded = 0;\n",
              "\n",
              "      const channel = await google.colab.kernel.comms.open(id);\n",
              "      // Send a message to notify the kernel that we're ready.\n",
              "      channel.send({})\n",
              "\n",
              "      for await (const message of channel.messages) {\n",
              "        // Send a message to notify the kernel that we're ready.\n",
              "        channel.send({})\n",
              "        if (message.buffers) {\n",
              "          for (const buffer of message.buffers) {\n",
              "            buffers.push(buffer);\n",
              "            downloaded += buffer.byteLength;\n",
              "            progress.value = downloaded;\n",
              "          }\n",
              "        }\n",
              "      }\n",
              "      const blob = new Blob(buffers, {type: 'application/binary'});\n",
              "      const a = document.createElement('a');\n",
              "      a.href = window.URL.createObjectURL(blob);\n",
              "      a.download = filename;\n",
              "      div.appendChild(a);\n",
              "      a.click();\n",
              "      div.remove();\n",
              "    }\n",
              "  "
            ],
            "text/plain": [
              "<IPython.core.display.Javascript object>"
            ]
          },
          "metadata": {
            "tags": []
          }
        },
        {
          "output_type": "display_data",
          "data": {
            "application/javascript": [
              "download(\"download_ce428de4-4029-4adb-939f-f52e00a2b959\", \"model.h5\", 232249288)"
            ],
            "text/plain": [
              "<IPython.core.display.Javascript object>"
            ]
          },
          "metadata": {
            "tags": []
          }
        }
      ]
    },
    {
      "cell_type": "code",
      "metadata": {
        "id": "Nfcz6jsXd4iz",
        "colab": {
          "base_uri": "https://localhost:8080/",
          "height": 316
        },
        "outputId": "60750710-ddad-4022-e8eb-2245a95e7897"
      },
      "source": [
        "from keras import load_model\r\n",
        "m=load_model('model.h5')"
      ],
      "execution_count": null,
      "outputs": [
        {
          "output_type": "error",
          "ename": "ImportError",
          "evalue": "ignored",
          "traceback": [
            "\u001b[0;31m---------------------------------------------------------------------------\u001b[0m",
            "\u001b[0;31mImportError\u001b[0m                               Traceback (most recent call last)",
            "\u001b[0;32m<ipython-input-1-d0915be398c8>\u001b[0m in \u001b[0;36m<module>\u001b[0;34m()\u001b[0m\n\u001b[0;32m----> 1\u001b[0;31m \u001b[0;32mfrom\u001b[0m \u001b[0mkeras\u001b[0m \u001b[0;32mimport\u001b[0m \u001b[0mload_model\u001b[0m\u001b[0;34m\u001b[0m\u001b[0;34m\u001b[0m\u001b[0m\n\u001b[0m\u001b[1;32m      2\u001b[0m \u001b[0mm\u001b[0m\u001b[0;34m=\u001b[0m\u001b[0mload_model\u001b[0m\u001b[0;34m(\u001b[0m\u001b[0;34m'model.h5'\u001b[0m\u001b[0;34m)\u001b[0m\u001b[0;34m\u001b[0m\u001b[0;34m\u001b[0m\u001b[0m\n",
            "\u001b[0;31mImportError\u001b[0m: cannot import name 'load_model' from 'keras' (/usr/local/lib/python3.7/dist-packages/keras/__init__.py)",
            "",
            "\u001b[0;31m---------------------------------------------------------------------------\u001b[0;32m\nNOTE: If your import is failing due to a missing package, you can\nmanually install dependencies using either !pip or !apt.\n\nTo view examples of installing some common dependencies, click the\n\"Open Examples\" button below.\n\u001b[0;31m---------------------------------------------------------------------------\u001b[0m\n"
          ]
        }
      ]
    }
  ]
}